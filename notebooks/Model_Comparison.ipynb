{
 "cells": [
  {
   "cell_type": "code",
   "execution_count": null,
   "metadata": {},
   "outputs": [],
   "source": [
    "# Model_Comparison.ipynb\n",
    "\n",
    "# # Model Comparison for Iris and MNIST Classification\n",
    "\n",
    "# ## Imports\n",
    "import numpy as np\n",
    "from src.data_loader import load_iris_data, load_mnist_data\n",
    "from src.preprocess.preprocess import preprocess_data\n",
    "from src.models.models import knn_model, decision_tree_model, neural_network_model\n",
    "from src.evaluation.evaluation import evaluate_model\n",
    "from tensorflow.keras.callbacks import EarlyStopping\n",
    "import matplotlib.pyplot as plt\n"
   ]
  },
  {
   "cell_type": "code",
   "execution_count": null,
   "metadata": {},
   "outputs": [],
   "source": [
    "\n",
    "# ## Load and Preprocess Data\n",
    "\n",
    "# ### Iris Dataset\n",
    "X_iris, y_iris = load_iris_data()\n",
    "X_train_iris, X_test_iris, y_train_iris, y_test_iris = preprocess_data(X_iris, y_iris)\n",
    "\n",
    "# ### MNIST Dataset\n",
    "X_train_mnist, X_test_mnist, y_train_mnist, y_test_mnist = load_mnist_data()\n",
    "\n",
    "\n"
   ]
  },
  {
   "cell_type": "code",
   "execution_count": null,
   "metadata": {},
   "outputs": [],
   "source": [
    "\n",
    "# ## Define Models\n",
    "\n",
    "# ### 1. K-Nearest Neighbors (KNN) on Iris\n",
    "knn = knn_model(n_neighbors=5)\n",
    "knn.fit(X_train_iris, y_train_iris)\n",
    "y_pred_knn = knn.predict(X_test_iris)\n",
    "evaluate_model(y_test_iris, y_pred_knn, model_name=\"KNN on Iris\")\n",
    "\n",
    "# ### 2. Decision Tree on Iris\n",
    "dt = decision_tree_model(max_depth=3)\n",
    "dt.fit(X_train_iris, y_train_iris)\n",
    "y_pred_dt = dt.predict(X_test_iris)\n",
    "evaluate_model(y_test_iris, y_pred_dt, model_name=\"Decision Tree on Iris\")\n",
    "\n",
    "# ### 3. Neural Network on MNIST\n",
    "input_dim = X_train_mnist.shape[1]\n",
    "nn_model = neural_network_model(input_dim=input_dim)\n",
    "\n",
    "# Early stopping to avoid overfitting\n",
    "early_stopping = EarlyStopping(monitor=\"val_loss\", patience=3, restore_best_weights=True)\n",
    "nn_model.fit(X_train_mnist, y_train_mnist, epochs=10, validation_split=0.2, callbacks=[early_stopping])\n",
    "nn_loss, nn_accuracy = nn_model.evaluate(X_test_mnist, y_test_mnist)\n",
    "\n",
    "print(f\"Neural Network on MNIST - Test Accuracy: {nn_accuracy}\")\n",
    "\n"
   ]
  },
  {
   "cell_type": "code",
   "execution_count": null,
   "metadata": {},
   "outputs": [],
   "source": [
    "\n",
    "\n",
    "# ## Summary of Results\n",
    "\n",
    "# Collecting and comparing the accuracy of each model.\n",
    "iris_results = {\n",
    "    \"K-Nearest Neighbors (Iris)\": knn.score(X_test_iris, y_test_iris),\n",
    "    \"Decision Tree (Iris)\": dt.score(X_test_iris, y_test_iris),\n",
    "}\n",
    "\n",
    "mnist_results = {\n",
    "    \"Neural Network (MNIST)\": nn_accuracy\n",
    "}\n",
    "\n",
    "# Display results\n",
    "print(\"\\n### Iris Dataset Results\")\n",
    "for model, accuracy in iris_results.items():\n",
    "    print(f\"{model}: {accuracy:.4f}\")\n",
    "\n",
    "print(\"\\n### MNIST Dataset Results\")\n",
    "for model, accuracy in mnist_results.items():\n",
    "    print(f\"{model}: {accuracy:.4f}\")\n",
    "\n",
    "# ### Plotting Comparison\n",
    "\n",
    "labels = list(iris_results.keys()) + list(mnist_results.keys())\n",
    "accuracies = list(iris_results.values()) + list(mnist_results.values())\n",
    "\n",
    "plt.figure(figsize=(10, 5))\n",
    "plt.barh(labels, accuracies, color='skyblue')\n",
    "plt.xlabel(\"Accuracy\")\n",
    "plt.title(\"Model Accuracy Comparison for Iris and MNIST\")\n",
    "plt.show()\n"
   ]
  }
 ],
 "metadata": {
  "language_info": {
   "name": "python"
  }
 },
 "nbformat": 4,
 "nbformat_minor": 2
}
