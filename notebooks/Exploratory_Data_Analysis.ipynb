{
 "cells": [
  {
   "cell_type": "code",
   "execution_count": null,
   "metadata": {},
   "outputs": [],
   "source": [
    "# Exploratory_Data_Analysis.ipynb\n",
    "\n",
    "# # Exploratory Data Analysis for Iris and MNIST Datasets\n",
    "\n",
    "# ## Imports\n",
    "import matplotlib.pyplot as plt\n",
    "import seaborn as sns\n",
    "import numpy as np\n",
    "from sklearn.datasets import load_iris\n",
    "from tensorflow.keras.datasets import mnist\n",
    "import pandas as pd\n"
   ]
  },
  {
   "cell_type": "code",
   "execution_count": null,
   "metadata": {},
   "outputs": [],
   "source": [
    "\n",
    "# ## Load Datasets\n",
    "# Load Iris dataset\n",
    "iris_data = load_iris()\n",
    "X_iris, y_iris = iris_data.data, iris_data.target\n",
    "\n",
    "\n",
    "# Load MNIST dataset\n",
    "(X_train_mnist, y_train_mnist), (X_test_mnist, y_test_mnist) = mnist.load_data()\n"
   ]
  },
  {
   "cell_type": "code",
   "execution_count": null,
   "metadata": {},
   "outputs": [],
   "source": [
    "\n",
    "# ## Iris Dataset Analysis\n",
    "\n",
    "# ### Basic Information\n",
    "print(\"Iris Dataset Shape:\", X_iris.shape)\n",
    "print(\"Class Labels:\", iris_data.target_names)\n",
    "print(\"Feature Names:\", iris_data.feature_names)\n",
    "\n",
    "# ### Pair Plot of Iris Dataset\n",
    "# Converting to a DataFrame for better visualization\n",
    "iris_df = pd.DataFrame(X_iris, columns=iris_data.feature_names)\n",
    "iris_df['Species'] = y_iris\n",
    "\n",
    "# Plot pairplot\n",
    "sns.pairplot(iris_df, hue='Species', palette='Set2')\n",
    "plt.suptitle(\"Pair Plot of Iris Dataset\", y=1.02)\n",
    "plt.show()\n",
    "\n",
    "# ### Distribution of Classes\n",
    "sns.countplot(x=y_iris, palette=\"Set2\")\n",
    "plt.title(\"Distribution of Classes in Iris Dataset\")\n",
    "plt.xlabel(\"Class\")\n",
    "plt.ylabel(\"Count\")\n",
    "plt.show()\n"
   ]
  },
  {
   "cell_type": "code",
   "execution_count": null,
   "metadata": {},
   "outputs": [],
   "source": [
    "\n",
    "# ## MNIST Dataset Analysis\n",
    "\n",
    "# ### Basic Information\n",
    "print(\"MNIST Train Set Shape:\", X_train_mnist.shape)\n",
    "print(\"MNIST Test Set Shape:\", X_test_mnist.shape)\n",
    "\n",
    "# ### Display Sample Digits\n",
    "fig, axes = plt.subplots(1, 10, figsize=(15, 15))\n",
    "for i, ax in enumerate(axes):\n",
    "    ax.imshow(X_train_mnist[i], cmap=\"gray\")\n",
    "    ax.axis(\"off\")\n",
    "    ax.set_title(f\"Label: {y_train_mnist[i]}\")\n",
    "plt.suptitle(\"Sample Digits from MNIST Dataset\")\n",
    "plt.show()\n",
    "\n",
    "# ### Distribution of Classes in MNIST\n",
    "sns.countplot(x=y_train_mnist, palette=\"Set3\")\n",
    "plt.title(\"Distribution of Classes in MNIST Dataset\")\n",
    "plt.xlabel(\"Digit\")\n",
    "plt.ylabel(\"Count\")\n",
    "plt.show()\n",
    "\n"
   ]
  }
 ],
 "metadata": {
  "language_info": {
   "name": "python"
  }
 },
 "nbformat": 4,
 "nbformat_minor": 2
}
